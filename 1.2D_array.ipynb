{
 "cells": [
  {
   "cell_type": "code",
   "execution_count": 1,
   "metadata": {},
   "outputs": [],
   "source": [
    "# Parameters\n",
    "length = 8   # Number of holes on each side\n",
    "mirror_positions = [(3,2),(3,7),(6,4),(8,7,10)]    # Mirror positions\n",
    "rays = ['C7+','C5+','R5-']"
   ]
  },
  {
   "cell_type": "code",
   "execution_count": 2,
   "metadata": {},
   "outputs": [],
   "source": [
    "# Cell Class\n",
    "class Cell():\n",
    "    def __init__(self) -> None:\n",
    "        self.mirror = False\n",
    "        self.life = float('inf')"
   ]
  },
  {
   "cell_type": "code",
   "execution_count": 3,
   "metadata": {},
   "outputs": [
    {
     "name": "stdout",
     "output_type": "stream",
     "text": [
      "[[<__main__.Cell object at 0x10bac2650>, <__main__.Cell object at 0x10bf9a3d0>, <__main__.Cell object at 0x10bac0750>, <__main__.Cell object at 0x10bfb3150>, <__main__.Cell object at 0x10bfb25d0>, <__main__.Cell object at 0x10bfb20d0>, <__main__.Cell object at 0x10bfb1010>, <__main__.Cell object at 0x10bfb1fd0>], [<__main__.Cell object at 0x10bfb1690>, <__main__.Cell object at 0x10bfb1910>, <__main__.Cell object at 0x10bfb27d0>, <__main__.Cell object at 0x10bfb0f10>, <__main__.Cell object at 0x10ba4d690>, <__main__.Cell object at 0x10ba4fc90>, <__main__.Cell object at 0x10ba4f9d0>, <__main__.Cell object at 0x10ba4dc90>], [<__main__.Cell object at 0x10ba4d010>, <__main__.Cell object at 0x10ba38150>, <__main__.Cell object at 0x10ba3a310>, <__main__.Cell object at 0x10ba3b750>, <__main__.Cell object at 0x10ba39710>, <__main__.Cell object at 0x10ba3a0d0>, <__main__.Cell object at 0x10ba39490>, <__main__.Cell object at 0x10bf9df50>], [<__main__.Cell object at 0x10bf9c9d0>, <__main__.Cell object at 0x10bf9e910>, <__main__.Cell object at 0x10bf9d7d0>, <__main__.Cell object at 0x10bf9c710>, <__main__.Cell object at 0x10bf9f510>, <__main__.Cell object at 0x10bf9f8d0>, <__main__.Cell object at 0x10bf9fe50>, <__main__.Cell object at 0x10bf9fdd0>], [<__main__.Cell object at 0x10bf9e690>, <__main__.Cell object at 0x10bf9c050>, <__main__.Cell object at 0x10bf9f890>, <__main__.Cell object at 0x10bf9f210>, <__main__.Cell object at 0x10bf9f410>, <__main__.Cell object at 0x10bf9c610>, <__main__.Cell object at 0x10bf9d610>, <__main__.Cell object at 0x10bf9fe10>], [<__main__.Cell object at 0x10bf9c450>, <__main__.Cell object at 0x10bf9cd90>, <__main__.Cell object at 0x10bf9fd10>, <__main__.Cell object at 0x10bf9fd90>, <__main__.Cell object at 0x10bf9f390>, <__main__.Cell object at 0x10bf9f990>, <__main__.Cell object at 0x10bf9d050>, <__main__.Cell object at 0x10bf9ead0>], [<__main__.Cell object at 0x10bf9e5d0>, <__main__.Cell object at 0x10bf9e8d0>, <__main__.Cell object at 0x10bf9fc50>, <__main__.Cell object at 0x10bf9fd50>, <__main__.Cell object at 0x10bf9d650>, <__main__.Cell object at 0x10bf9f790>, <__main__.Cell object at 0x10bf9fa90>, <__main__.Cell object at 0x10bf9f7d0>], [<__main__.Cell object at 0x10bf9ff10>, <__main__.Cell object at 0x10bf9f6d0>, <__main__.Cell object at 0x10bf9fb50>, <__main__.Cell object at 0x10bf9f590>, <__main__.Cell object at 0x10bf9c190>, <__main__.Cell object at 0x10ba2a990>, <__main__.Cell object at 0x10ba283d0>, <__main__.Cell object at 0x10ba29490>]]\n"
     ]
    }
   ],
   "source": [
    "# Create Empty Grid\n",
    "rows = []\n",
    "for _ in range(length):\n",
    "    columns = []\n",
    "    for _ in range(length):\n",
    "        columns.append(Cell())\n",
    "    rows.append(columns)\n",
    "print(rows)"
   ]
  },
  {
   "cell_type": "code",
   "execution_count": 9,
   "metadata": {},
   "outputs": [],
   "source": [
    "# Insert Mirrors\n",
    "for mirror in mirror_positions:\n",
    "    row_idx = mirror[0] - 1\n",
    "    col_idx = mirror[1] - 1\n",
    "    cell = rows[row_idx][col_idx]\n",
    "    cell.mirror = True\n",
    "    if len(mirror) == 3:\n",
    "        cell.life = mirror[2] "
   ]
  },
  {
   "cell_type": "code",
   "execution_count": 70,
   "metadata": {},
   "outputs": [],
   "source": [
    "# Beam Class\n",
    "class Beam():\n",
    "    def __init__(self,start_coordinates,length) -> None:\n",
    "        self.start_coordinates = start_coordinates\n",
    "        self.end = False\n",
    "        # Initialise the starting coordinates of the beam\n",
    "        if start_coordinates[0]=='R' and start_coordinates[2]=='+':\n",
    "            self.curr_row_idx = int(start_coordinates[1]) - 1 \n",
    "            self.curr_col_idx = 0\n",
    "            self.current_direction = 'right'\n",
    "        elif start_coordinates[0]=='R' and start_coordinates[2]=='-':\n",
    "            self.curr_row_idx = int(start_coordinates[1]) - 1\n",
    "            self.curr_col_idx = length - 1\n",
    "            self.current_direction = 'left'    \n",
    "        elif start_coordinates[0]=='C' and start_coordinates[2]=='+':\n",
    "            self.curr_row_idx = 0\n",
    "            self.curr_col_idx = int(start_coordinates[1]) - 1\n",
    "            self.current_direction = 'down'\n",
    "        elif start_coordinates[0]=='C' and start_coordinates[2]=='-':\n",
    "            self.curr_row_idx = length - 1\n",
    "            self.curr_col_idx = int(start_coordinates[1]) - 1\n",
    "            self.current_direction = 'up'\n",
    "    \n",
    "    def check_collision(self):\n",
    "        if self.end:\n",
    "            return None\n",
    "        # Check if current cell is a mirror\n",
    "        curr_grid_cell = rows[self.curr_row_idx][self.curr_col_idx]\n",
    "        if curr_grid_cell.mirror == True:\n",
    "            self.current_direction = None\n",
    "            curr_grid_cell.life -= 1\n",
    "            return None\n",
    "\n",
    "    def check_mirror(self):\n",
    "        if self.end:\n",
    "            return None\n",
    "        # Check whether adjacent diagonals are mirrors and redirect\n",
    "        top_right_mirror = rows[self.curr_row_idx-1][self.curr_col_idx+1].mirror\n",
    "        bottom_right_mirror = rows[self.curr_row_idx+1][self.curr_col_idx+1].mirror\n",
    "        top_left_mirror = rows[self.curr_row_idx-1][self.curr_col_idx-1].mirror\n",
    "        bottom_left_mirror = rows[self.curr_row_idx+1][self.curr_col_idx-1].mirror\n",
    "\n",
    "        if self.current_direction  == 'right':\n",
    "            if top_right_mirror and bottom_right_mirror:\n",
    "                self.current_direction = 'left'\n",
    "            elif  top_right_mirror:\n",
    "                self.current_direction = 'down'\n",
    "            elif bottom_right_mirror:\n",
    "                self.current_direction = 'up'\n",
    "\n",
    "        elif self.current_direction  == 'left':\n",
    "            if top_left_mirror and bottom_left_mirror:\n",
    "                self.current_direction = 'right'\n",
    "            elif top_left_mirror:\n",
    "                self.current_direction = 'down'\n",
    "            elif  bottom_left_mirror:\n",
    "                self.current_direction = 'up'\n",
    "\n",
    "        elif self.current_direction  == 'up':\n",
    "            if top_left_mirror and top_right_mirror:\n",
    "                self.current_direction = 'down'\n",
    "            elif top_left_mirror:\n",
    "                self.current_direction = 'right'\n",
    "            elif top_right_mirror:\n",
    "                self.current_direction = 'left'\n",
    "\n",
    "        elif self.current_direction  == 'down':\n",
    "            if bottom_left_mirror and bottom_right_mirror:\n",
    "                self.current_direction == 'up'\n",
    "            elif bottom_left_mirror:\n",
    "                self.current_direction == 'right'\n",
    "            elif bottom_right_mirror:\n",
    "                self.current_direction == 'left'\n",
    "    \n",
    "    def print_output(self):\n",
    "        print(self.start_coordinates,'->','{'+str(self.curr_col_idx + 1)+','+str(self.curr_row_idx + 1)+'}')\n",
    "\n",
    "    def check_end(self):\n",
    "        if self.current_direction == 'up' and self.curr_row_idx == 0:\n",
    "            self.end = True\n",
    "            self.print_output()\n",
    "        elif self.current_direction == 'right' and self.curr_col_idx == (length - 1):\n",
    "            self.end = True\n",
    "            self.print_output()\n",
    "        elif self.current_direction == 'down' and self.curr_row_idx == (length - 1):\n",
    "            self.end = True\n",
    "            self.print_output()    \n",
    "        elif self.current_direction == 'left' and self.curr_col_idx == 0:\n",
    "            self.end = True\n",
    "            self.print_output()    \n",
    "    \n",
    "    def move(self):\n",
    "        if self.end:\n",
    "            return None\n",
    "        # Move beam one step in current direction\n",
    "        if self.current_direction  == 'right':\n",
    "            self.curr_col_idx += 1\n",
    "        elif self.current_direction  == 'left':\n",
    "            self.curr_col_idx -= 1\n",
    "        elif self.current_direction  == 'up':\n",
    "            self.curr_row_idx -= 1\n",
    "        elif self.current_direction  == 'down':\n",
    "            self.curr_row_idx += 1"
   ]
  },
  {
   "cell_type": "code",
   "execution_count": 71,
   "metadata": {},
   "outputs": [],
   "source": [
    "beam1 = Beam(rays[1],length)"
   ]
  },
  {
   "cell_type": "code",
   "execution_count": 61,
   "metadata": {},
   "outputs": [
    {
     "name": "stdout",
     "output_type": "stream",
     "text": [
      "down 0 4\n"
     ]
    }
   ],
   "source": [
    "print(beam1.current_direction,beam1.curr_row_idx,beam1.curr_col_idx)"
   ]
  },
  {
   "cell_type": "code",
   "execution_count": 79,
   "metadata": {},
   "outputs": [
    {
     "name": "stdout",
     "output_type": "stream",
     "text": [
      "C5+ -> {5,8}\n",
      "4 7\n"
     ]
    }
   ],
   "source": [
    "beam1.check_end()\n",
    "beam1.check_mirror()\n",
    "beam1.move()\n",
    "beam1.check_collision()\n",
    "print(beam1.curr_col_idx,beam1.curr_row_idx)"
   ]
  },
  {
   "cell_type": "code",
   "execution_count": 46,
   "metadata": {},
   "outputs": [
    {
     "data": {
      "text/plain": [
       "'C'"
      ]
     },
     "execution_count": 46,
     "metadata": {},
     "output_type": "execute_result"
    }
   ],
   "source": [
    "rays[0][0]"
   ]
  },
  {
   "cell_type": "code",
   "execution_count": 42,
   "metadata": {},
   "outputs": [
    {
     "data": {
      "text/plain": [
       "[-1, 0]"
      ]
     },
     "execution_count": 42,
     "metadata": {},
     "output_type": "execute_result"
    }
   ],
   "source": [
    "beam.current_coordinates"
   ]
  },
  {
   "cell_type": "code",
   "execution_count": null,
   "metadata": {},
   "outputs": [],
   "source": [
    "def main():\n",
    "    \"\"\"\n",
    "    Manage application dependencies\n",
    "    \"\"\"\n",
    "    config_logger()\n",
    "    logger.info(\"Configured logger\")\n",
    "\n",
    "    consumer = XXX\n",
    "    conumer.run()\n",
    "\n",
    "\n",
    "if __main__ == '__main__':\n",
    "    # parse and verify the input (abstract input validation with another function or file)\n",
    "    try:\n",
    "        main()\n",
    "    except KeyboardInterrupt:\n",
    "        logger.info('Interrupted')\n",
    "        try:\n",
    "            sys.exit()\n",
    "        except SystemExit:\n",
    "            os._exit(0)"
   ]
  }
 ],
 "metadata": {
  "kernelspec": {
   "display_name": "Python 3",
   "language": "python",
   "name": "python3"
  },
  "language_info": {
   "codemirror_mode": {
    "name": "ipython",
    "version": 3
   },
   "file_extension": ".py",
   "mimetype": "text/x-python",
   "name": "python",
   "nbconvert_exporter": "python",
   "pygments_lexer": "ipython3",
   "version": "3.11.5"
  }
 },
 "nbformat": 4,
 "nbformat_minor": 2
}
