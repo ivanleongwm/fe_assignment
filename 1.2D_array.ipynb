{
 "cells": [
  {
   "cell_type": "code",
   "execution_count": 57,
   "metadata": {},
   "outputs": [],
   "source": [
    "# Parameters\n",
    "length = 8   # Number of holes on each side\n",
    "mirror_positions = [(3,2),(3,7),(6,4),(8,7,10)]    # Mirror positions\n",
    "rays = ['C2+','C3+','C5+','C6-','R4+','R5+','C7+','R5-'] # ['C7+','C5+','R5-']"
   ]
  },
  {
   "cell_type": "code",
   "execution_count": 58,
   "metadata": {},
   "outputs": [],
   "source": [
    "# Cell Class\n",
    "class Cell():\n",
    "    def __init__(self) -> None:\n",
    "        self.mirror = False\n",
    "        self.life = float('inf')"
   ]
  },
  {
   "cell_type": "code",
   "execution_count": 59,
   "metadata": {},
   "outputs": [],
   "source": [
    "def createGrid():\n",
    "    # Create Empty Grid\n",
    "    rows = []\n",
    "    for _ in range(length):\n",
    "        columns = []\n",
    "        for _ in range(length):\n",
    "            columns.append(Cell())\n",
    "        rows.append(columns)\n",
    "    print(rows)\n",
    "\n",
    "    # Insert Mirrors\n",
    "    for mirror in mirror_positions:\n",
    "        row_idx = mirror[0] - 1\n",
    "        col_idx = mirror[1] - 1\n",
    "        cell = rows[row_idx][col_idx]\n",
    "        cell.mirror = True\n",
    "        if len(mirror) == 3:\n",
    "            cell.life = mirror[2] \n",
    "    return rows"
   ]
  },
  {
   "cell_type": "code",
   "execution_count": 60,
   "metadata": {},
   "outputs": [
    {
     "name": "stdout",
     "output_type": "stream",
     "text": [
      "[[<__main__.Cell object at 0x000002A379887BD0>, <__main__.Cell object at 0x000002A3798E3210>, <__main__.Cell object at 0x000002A379887510>, <__main__.Cell object at 0x000002A3799D5A10>, <__main__.Cell object at 0x000002A3799D6D90>, <__main__.Cell object at 0x000002A3799D5050>, <__main__.Cell object at 0x000002A3799D5690>, <__main__.Cell object at 0x000002A3799D5810>], [<__main__.Cell object at 0x000002A3799D6090>, <__main__.Cell object at 0x000002A3799D5390>, <__main__.Cell object at 0x000002A3799D5790>, <__main__.Cell object at 0x000002A3799D41D0>, <__main__.Cell object at 0x000002A3799D5910>, <__main__.Cell object at 0x000002A3799D5D10>, <__main__.Cell object at 0x000002A3799D5E50>, <__main__.Cell object at 0x000002A3799D5A50>], [<__main__.Cell object at 0x000002A3799D5990>, <__main__.Cell object at 0x000002A3799D5B50>, <__main__.Cell object at 0x000002A3799D5290>, <__main__.Cell object at 0x000002A3799D5C10>, <__main__.Cell object at 0x000002A3799D5450>, <__main__.Cell object at 0x000002A3799D5E10>, <__main__.Cell object at 0x000002A3799D5BD0>, <__main__.Cell object at 0x000002A3799D58D0>], [<__main__.Cell object at 0x000002A3799D5710>, <__main__.Cell object at 0x000002A3799D5E90>, <__main__.Cell object at 0x000002A3799D5590>, <__main__.Cell object at 0x000002A3799D6010>, <__main__.Cell object at 0x000002A3799D5890>, <__main__.Cell object at 0x000002A3799D5550>, <__main__.Cell object at 0x000002A3799D6150>, <__main__.Cell object at 0x000002A3799D5ED0>], [<__main__.Cell object at 0x000002A3799D5490>, <__main__.Cell object at 0x000002A3799D6110>, <__main__.Cell object at 0x000002A3799D51D0>, <__main__.Cell object at 0x000002A3799D7310>, <__main__.Cell object at 0x000002A3799D72D0>, <__main__.Cell object at 0x000002A3799D7E50>, <__main__.Cell object at 0x000002A3799D7ED0>, <__main__.Cell object at 0x000002A3799D7F10>], [<__main__.Cell object at 0x000002A3799D7F50>, <__main__.Cell object at 0x000002A3799D7FD0>, <__main__.Cell object at 0x000002A3799D7E90>, <__main__.Cell object at 0x000002A3799D7CD0>, <__main__.Cell object at 0x000002A3799D7E10>, <__main__.Cell object at 0x000002A3799D7D90>, <__main__.Cell object at 0x000002A3799D7D10>, <__main__.Cell object at 0x000002A3799D7D50>], [<__main__.Cell object at 0x000002A3799D7C90>, <__main__.Cell object at 0x000002A3799C93D0>, <__main__.Cell object at 0x000002A3799C92D0>, <__main__.Cell object at 0x000002A3799CA210>, <__main__.Cell object at 0x000002A3799CB490>, <__main__.Cell object at 0x000002A3799C90D0>, <__main__.Cell object at 0x000002A3799C9510>, <__main__.Cell object at 0x000002A3799CBFD0>], [<__main__.Cell object at 0x000002A3799CBF10>, <__main__.Cell object at 0x000002A3799CA690>, <__main__.Cell object at 0x000002A3799CAC10>, <__main__.Cell object at 0x000002A3799C94D0>, <__main__.Cell object at 0x000002A3799C9150>, <__main__.Cell object at 0x000002A3799C9F90>, <__main__.Cell object at 0x000002A3799C8F90>, <__main__.Cell object at 0x000002A3799CB7D0>]]\n"
     ]
    }
   ],
   "source": [
    "rows = createGrid()"
   ]
  },
  {
   "cell_type": "code",
   "execution_count": 118,
   "metadata": {},
   "outputs": [],
   "source": [
    "# Beam Class\n",
    "class Beam():\n",
    "    def __init__(self,start_coordinates,length) -> None:\n",
    "        self.start_coordinates = start_coordinates\n",
    "        self.end = False\n",
    "        # Initialise the starting coordinates of the beam\n",
    "        if start_coordinates[0]=='R' and start_coordinates[2]=='+':\n",
    "            self.curr_row_idx = int(start_coordinates[1]) - 1 \n",
    "            self.curr_col_idx = 0\n",
    "            self.current_direction = 'right'\n",
    "        elif start_coordinates[0]=='R' and start_coordinates[2]=='-':\n",
    "            self.curr_row_idx = int(start_coordinates[1]) - 1\n",
    "            self.curr_col_idx = length - 1\n",
    "            self.current_direction = 'left'    \n",
    "        elif start_coordinates[0]=='C' and start_coordinates[2]=='+':\n",
    "            self.curr_row_idx = 0\n",
    "            self.curr_col_idx = int(start_coordinates[1]) - 1\n",
    "            self.current_direction = 'down'\n",
    "        elif start_coordinates[0]=='C' and start_coordinates[2]=='-':\n",
    "            self.curr_row_idx = length - 1\n",
    "            self.curr_col_idx = int(start_coordinates[1]) - 1\n",
    "            self.current_direction = 'up'\n",
    "\n",
    "        print('Original Beam Position:',self.current_direction,self.curr_row_idx+1,self.curr_col_idx+1)\n",
    "\n",
    "        # If mirror right beside end immediately\n",
    "        if start_coordinates[0]=='C':\n",
    "            if not (self.curr_col_idx == 0):\n",
    "                if rows[self.curr_row_idx][self.curr_col_idx - 1].mirror:\n",
    "                    self.end = True\n",
    "                    self.print_output()\n",
    "            if not (self.curr_col_idx == (length - 1)):\n",
    "                if rows[self.curr_row_idx][self.curr_col_idx + 1].mirror:\n",
    "                    self.end = True\n",
    "                    self.print_output()\n",
    "        if start_coordinates[0]=='R':\n",
    "            if not (self.curr_row_idx == 0):\n",
    "                if rows[self.curr_row_idx - 1][self.curr_col_idx].mirror:\n",
    "                    self.end = True\n",
    "                    self.print_output()\n",
    "            if not (self.curr_row_idx == (length - 1)):\n",
    "                if rows[self.curr_row_idx + 1][self.curr_col_idx].mirror:\n",
    "                    self.end = True\n",
    "                    self.print_output()\n",
    "    \n",
    "    def check_collision(self):\n",
    "        if self.end:\n",
    "            return None\n",
    "        # Check if current cell is a mirror\n",
    "        curr_grid_cell = rows[self.curr_row_idx][self.curr_col_idx]\n",
    "        if curr_grid_cell.mirror == True:\n",
    "            self.current_direction = None\n",
    "            self.end = True\n",
    "            print(self.start_coordinates,'->')\n",
    "            curr_grid_cell.life -= 1\n",
    "            if curr_grid_cell.life == 0:\n",
    "                curr_grid_cell.mirror = False\n",
    "                curr_grid_cell.life = float('inf')\n",
    "            return None\n",
    "\n",
    "    def check_mirror(self):\n",
    "        if self.end:\n",
    "            return None\n",
    "        top_right_mirror = False\n",
    "        bottom_right_mirror = False\n",
    "        top_left_mirror = False\n",
    "        bottom_left_mirror = False\n",
    "\n",
    "        # Check whether adjacent diagonals are mirrors and redirect\n",
    "        if not (self.curr_col_idx == length - 1) and not (self.curr_row_idx == 0):\n",
    "            top_right_mirror = rows[self.curr_row_idx-1][self.curr_col_idx+1].mirror\n",
    "        if not (self.curr_col_idx == length - 1) and not (self.curr_row_idx == length - 1):\n",
    "            bottom_right_mirror = rows[self.curr_row_idx+1][self.curr_col_idx+1].mirror\n",
    "        if not (self.curr_col_idx == 0) and not (self.curr_row_idx == 0):\n",
    "            top_left_mirror = rows[self.curr_row_idx-1][self.curr_col_idx-1].mirror\n",
    "        if not (self.curr_col_idx == 0) and not (self.curr_row_idx == length - 1):\n",
    "            bottom_left_mirror = rows[self.curr_row_idx+1][self.curr_col_idx-1].mirror\n",
    "\n",
    "        if self.current_direction  == 'right':\n",
    "            if top_right_mirror and bottom_right_mirror:\n",
    "                self.current_direction = 'left'\n",
    "            elif  top_right_mirror:\n",
    "                self.current_direction = 'down'\n",
    "            elif bottom_right_mirror:\n",
    "                self.current_direction = 'up'\n",
    "\n",
    "        elif self.current_direction  == 'left':\n",
    "            if top_left_mirror and bottom_left_mirror:\n",
    "                self.current_direction = 'right'\n",
    "            elif top_left_mirror:\n",
    "                self.current_direction = 'down'\n",
    "            elif  bottom_left_mirror:\n",
    "                self.current_direction = 'up'\n",
    "\n",
    "        elif self.current_direction  == 'up':\n",
    "            if top_left_mirror and top_right_mirror:\n",
    "                self.current_direction = 'down'\n",
    "            elif top_left_mirror:\n",
    "                self.current_direction = 'right'\n",
    "            elif top_right_mirror:\n",
    "                self.current_direction = 'left'\n",
    "\n",
    "        elif self.current_direction  == 'down':\n",
    "            if bottom_left_mirror and bottom_right_mirror:\n",
    "                self.current_direction = 'up'\n",
    "            elif bottom_left_mirror:\n",
    "                self.current_direction = 'right'\n",
    "            elif bottom_right_mirror:\n",
    "                self.current_direction = 'left'\n",
    "    \n",
    "    def print_output(self):\n",
    "        print(self.start_coordinates,'->','{'+str(self.curr_row_idx + 1)+','+str(self.curr_col_idx + 1)+'}')\n",
    "\n",
    "    def check_end(self):\n",
    "        if self.current_direction == 'up' and self.curr_row_idx == 0:\n",
    "            self.end = True\n",
    "            self.print_output()\n",
    "        elif self.current_direction == 'right' and self.curr_col_idx == (length - 1):\n",
    "            self.end = True\n",
    "            self.print_output()\n",
    "        elif self.current_direction == 'down' and self.curr_row_idx == (length - 1):\n",
    "            self.end = True\n",
    "            self.print_output()    \n",
    "        elif self.current_direction == 'left' and self.curr_col_idx == 0:\n",
    "            self.end = True\n",
    "            self.print_output()    \n",
    "    \n",
    "    def move(self):\n",
    "        if self.end:\n",
    "            return None\n",
    "        # Move beam one step in current direction\n",
    "        if self.current_direction  == 'right':\n",
    "            self.curr_col_idx += 1\n",
    "        elif self.current_direction  == 'left':\n",
    "            self.curr_col_idx -= 1\n",
    "        elif self.current_direction  == 'up':\n",
    "            self.curr_row_idx -= 1\n",
    "        elif self.current_direction  == 'down':\n",
    "            self.curr_row_idx += 1"
   ]
  },
  {
   "cell_type": "code",
   "execution_count": 91,
   "metadata": {},
   "outputs": [
    {
     "data": {
      "text/plain": [
       "True"
      ]
     },
     "execution_count": 91,
     "metadata": {},
     "output_type": "execute_result"
    }
   ],
   "source": [
    "rows[5][3].mirror"
   ]
  },
  {
   "cell_type": "code",
   "execution_count": 105,
   "metadata": {},
   "outputs": [
    {
     "data": {
      "text/plain": [
       "False"
      ]
     },
     "execution_count": 105,
     "metadata": {},
     "output_type": "execute_result"
    }
   ],
   "source": [
    "not (beam1.curr_col_idx == length - 1)"
   ]
  },
  {
   "cell_type": "code",
   "execution_count": 95,
   "metadata": {},
   "outputs": [
    {
     "name": "stdout",
     "output_type": "stream",
     "text": [
      "7 6\n"
     ]
    }
   ],
   "source": [
    "beam1 = Beam(rays[3],length)\n",
    "beam1.check_end()\n",
    "beam1.check_mirror()\n",
    "beam1.move()\n",
    "beam1.check_collision()\n",
    "print(beam1.curr_row_idx+1,beam1.curr_col_idx+1)"
   ]
  },
  {
   "cell_type": "code",
   "execution_count": 119,
   "metadata": {},
   "outputs": [
    {
     "name": "stdout",
     "output_type": "stream",
     "text": [
      "Original Beam Position: down 1 2\n",
      "2 2\n",
      "C2+ ->\n",
      "3 2\n",
      "Original Beam Position: down 1 3\n",
      "2 3\n",
      "2 4\n",
      "2 5\n",
      "2 6\n",
      "1 6\n",
      "C3+ -> {1,6}\n",
      "1 6\n",
      "Original Beam Position: down 1 5\n",
      "2 5\n",
      "3 5\n",
      "4 5\n",
      "5 5\n",
      "5 6\n",
      "5 7\n",
      "5 8\n",
      "C5+ -> {5,8}\n",
      "5 8\n",
      "Original Beam Position: up 8 6\n",
      "C6- -> {8,6}\n",
      "Original Beam Position: right 4 1\n",
      "5 1\n",
      "6 1\n",
      "7 1\n",
      "8 1\n",
      "R4+ -> {8,1}\n",
      "8 1\n",
      "Original Beam Position: right 5 1\n",
      "5 2\n",
      "5 3\n",
      "4 3\n",
      "4 4\n",
      "4 5\n",
      "4 6\n",
      "5 6\n",
      "6 6\n",
      "7 6\n",
      "7 5\n",
      "8 5\n",
      "R5+ -> {8,5}\n",
      "8 5\n",
      "Original Beam Position: down 1 7\n",
      "2 7\n",
      "C7+ ->\n",
      "3 7\n",
      "Original Beam Position: left 5 8\n",
      "5 7\n",
      "5 6\n",
      "5 5\n",
      "4 5\n",
      "3 5\n",
      "2 5\n",
      "1 5\n",
      "R5- -> {1,5}\n",
      "1 5\n"
     ]
    }
   ],
   "source": [
    "for ray in rays:\n",
    "    beam1 = Beam(ray,length)\n",
    "    while not beam1.end:\n",
    "        beam1.check_end()\n",
    "        beam1.check_mirror()\n",
    "        beam1.move()\n",
    "        beam1.check_collision()\n",
    "        print(beam1.curr_row_idx+1,beam1.curr_col_idx+1)"
   ]
  },
  {
   "cell_type": "code",
   "execution_count": 74,
   "metadata": {},
   "outputs": [
    {
     "data": {
      "text/plain": [
       "'C'"
      ]
     },
     "execution_count": 74,
     "metadata": {},
     "output_type": "execute_result"
    }
   ],
   "source": [
    "rays[0][0]"
   ]
  },
  {
   "cell_type": "code",
   "execution_count": 110,
   "metadata": {},
   "outputs": [
    {
     "data": {
      "text/plain": [
       "7"
      ]
     },
     "execution_count": 110,
     "metadata": {},
     "output_type": "execute_result"
    }
   ],
   "source": [
    "beam1.curr_col_idx"
   ]
  },
  {
   "cell_type": "code",
   "execution_count": 112,
   "metadata": {},
   "outputs": [
    {
     "name": "stdout",
     "output_type": "stream",
     "text": [
      "False\n"
     ]
    }
   ],
   "source": [
    "print(not (beam1.curr_col_idx == (length - 1)))"
   ]
  },
  {
   "cell_type": "code",
   "execution_count": 44,
   "metadata": {},
   "outputs": [
    {
     "data": {
      "text/plain": [
       "True"
      ]
     },
     "execution_count": 44,
     "metadata": {},
     "output_type": "execute_result"
    }
   ],
   "source": [
    "rows[beam1.curr_row_idx+1][beam1.curr_col_idx-1].mirror"
   ]
  },
  {
   "cell_type": "code",
   "execution_count": null,
   "metadata": {},
   "outputs": [],
   "source": [
    "def main():\n",
    "    \"\"\"\n",
    "    Manage application dependencies\n",
    "    \"\"\"\n",
    "    config_logger()\n",
    "    logger.info(\"Configured logger\")\n",
    "\n",
    "    consumer = XXX\n",
    "    conumer.run()\n",
    "\n",
    "\n",
    "if __main__ == '__main__':\n",
    "    # parse and verify the input (abstract input validation with another function or file)\n",
    "    try:\n",
    "        main()\n",
    "    except KeyboardInterrupt:\n",
    "        logger.info('Interrupted')\n",
    "        try:\n",
    "            sys.exit()\n",
    "        except SystemExit:\n",
    "            os._exit(0)"
   ]
  }
 ],
 "metadata": {
  "kernelspec": {
   "display_name": "Python 3",
   "language": "python",
   "name": "python3"
  },
  "language_info": {
   "codemirror_mode": {
    "name": "ipython",
    "version": 3
   },
   "file_extension": ".py",
   "mimetype": "text/x-python",
   "name": "python",
   "nbconvert_exporter": "python",
   "pygments_lexer": "ipython3",
   "version": "3.11.0"
  }
 },
 "nbformat": 4,
 "nbformat_minor": 2
}
